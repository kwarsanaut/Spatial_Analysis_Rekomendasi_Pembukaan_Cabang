{
 "cells": [
  {
   "cell_type": "code",
   "execution_count": 2,
   "id": "a54c169b",
   "metadata": {},
   "outputs": [
    {
     "name": "stdout",
     "output_type": "stream",
     "text": [
      "Data bersih telah disimpan sebagai df_clean.csv\n",
      "Jumlah data awal: 311409\n",
      "Jumlah data setelah dibersihkan: 306090\n",
      "Jumlah data 'Unknown' yang dihapus: 5319\n"
     ]
    }
   ],
   "source": [
    "import pandas as pd\n",
    "\n",
    "# Baca file CSV\n",
    "df = pd.read_csv('Data_Final_2024_With_Categories_Final.csv')\n",
    "\n",
    "# Drop row dengan nilai \"Unknown\" di kolom Category\n",
    "df_clean = df[df['Category'] != 'Unknown']\n",
    "\n",
    "# Simpan ke file CSV baru tanpa index\n",
    "df_clean.to_csv('df_clean.csv', index=False)\n",
    "\n",
    "print(\"Data bersih telah disimpan sebagai df_clean.csv\")\n",
    "print(f\"Jumlah data awal: {len(df)}\")\n",
    "print(f\"Jumlah data setelah dibersihkan: {len(df_clean)}\")\n",
    "print(f\"Jumlah data 'Unknown' yang dihapus: {len(df) - len(df_clean)}\")"
   ]
  }
 ],
 "metadata": {
  "kernelspec": {
   "display_name": "base",
   "language": "python",
   "name": "python3"
  },
  "language_info": {
   "codemirror_mode": {
    "name": "ipython",
    "version": 3
   },
   "file_extension": ".py",
   "mimetype": "text/x-python",
   "name": "python",
   "nbconvert_exporter": "python",
   "pygments_lexer": "ipython3",
   "version": "3.13.5"
  }
 },
 "nbformat": 4,
 "nbformat_minor": 5
}
